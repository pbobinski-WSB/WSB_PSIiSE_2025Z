{
 "cells": [
  {
   "cell_type": "markdown",
   "metadata": {},
   "source": [
    "# Notatnik do testowania środowiska AI\n",
    "\n",
    "Ten notatnik pozwoli sprawdzić, czy wszystkie kluczowe biblioteki do analizy danych i uczenia maszynowego zostały poprawnie zainstalowane."
   ]
  },
  {
   "cell_type": "markdown",
   "metadata": {},
   "source": [
    "### Krok 1: Importowanie bibliotek\n",
    "\n",
    "Uruchomienie tej komórki zaimportuje podstawowe pakiety. Jeśli nie pojawi się żaden błąd, oznacza to, że biblioteki są zainstalowane."
   ]
  },
  {
   "cell_type": "code",
   "execution_count": 1,
   "metadata": {},
   "outputs": [
    {
     "name": "stdout",
     "output_type": "stream",
     "text": [
      "Wersja NumPy: 2.2.6\n",
      "Wersja Pandas: 2.3.2\n",
      "Wersja Scikit-learn: 1.7.1\n",
      "Wersja Seaborn: 0.13.2\n",
      "\n",
      "--- Wszystkie biblioteki zaimportowano pomyślnie! ---\n"
     ]
    }
   ],
   "source": [
    "import numpy as np\n",
    "import pandas as pd\n",
    "import matplotlib.pyplot as plt\n",
    "import seaborn as sns\n",
    "import sklearn\n",
    "\n",
    "print(f\"Wersja NumPy: {np.__version__}\")\n",
    "print(f\"Wersja Pandas: {pd.__version__}\")\n",
    "print(f\"Wersja Scikit-learn: {sklearn.__version__}\")\n",
    "print(f\"Wersja Seaborn: {sns.__version__}\")\n",
    "\n",
    "print(\"\\n--- Wszystkie biblioteki zaimportowano pomyślnie! ---\")"
   ]
  },
  {
   "cell_type": "markdown",
   "metadata": {},
   "source": [
    "### Krok 2: Proste użycie NumPy\n",
    "\n",
    "Tworzymy tablicę (wektor) i wykonujemy na niej podstawowe operacje matematyczne."
   ]
  },
  {
   "cell_type": "code",
   "execution_count": 2,
   "metadata": {},
   "outputs": [
    {
     "name": "stdout",
     "output_type": "stream",
     "text": [
      "Oryginalny wektor: [ 1  2  3  4  5  6  7  8  9 10]\n",
      "Wektor podniesiony do kwadratu: [  1   4   9  16  25  36  49  64  81 100]\n"
     ]
    }
   ],
   "source": [
    "wektor_np = np.arange(1, 11) # Stwórz wektor od 1 do 10\n",
    "print(f\"Oryginalny wektor: {wektor_np}\")\n",
    "print(f\"Wektor podniesiony do kwadratu: {wektor_np ** 2}\")"
   ]
  },
  {
   "cell_type": "markdown",
   "metadata": {},
   "source": [
    "### Krok 3: Proste użycie Pandas\n",
    "\n",
    "Tworzymy prostą tabelę danych (`DataFrame`) i wyświetlamy jej zawartość."
   ]
  },
  {
   "cell_type": "code",
   "execution_count": 3,
   "metadata": {},
   "outputs": [
    {
     "data": {
      "text/html": [
       "<div>\n",
       "<style scoped>\n",
       "    .dataframe tbody tr th:only-of-type {\n",
       "        vertical-align: middle;\n",
       "    }\n",
       "\n",
       "    .dataframe tbody tr th {\n",
       "        vertical-align: top;\n",
       "    }\n",
       "\n",
       "    .dataframe thead th {\n",
       "        text-align: right;\n",
       "    }\n",
       "</style>\n",
       "<table border=\"1\" class=\"dataframe\">\n",
       "  <thead>\n",
       "    <tr style=\"text-align: right;\">\n",
       "      <th></th>\n",
       "      <th>Produkt</th>\n",
       "      <th>Cena (PLN)</th>\n",
       "      <th>Ilość (kg)</th>\n",
       "    </tr>\n",
       "  </thead>\n",
       "  <tbody>\n",
       "    <tr>\n",
       "      <th>0</th>\n",
       "      <td>Jabłka</td>\n",
       "      <td>3.5</td>\n",
       "      <td>100</td>\n",
       "    </tr>\n",
       "    <tr>\n",
       "      <th>1</th>\n",
       "      <td>Banany</td>\n",
       "      <td>5.2</td>\n",
       "      <td>150</td>\n",
       "    </tr>\n",
       "    <tr>\n",
       "      <th>2</th>\n",
       "      <td>Truskawki</td>\n",
       "      <td>12.0</td>\n",
       "      <td>80</td>\n",
       "    </tr>\n",
       "  </tbody>\n",
       "</table>\n",
       "</div>"
      ],
      "text/plain": [
       "     Produkt  Cena (PLN)  Ilość (kg)\n",
       "0     Jabłka         3.5         100\n",
       "1     Banany         5.2         150\n",
       "2  Truskawki        12.0          80"
      ]
     },
     "execution_count": 3,
     "metadata": {},
     "output_type": "execute_result"
    }
   ],
   "source": [
    "dane = {\n",
    "    'Produkt': ['Jabłka', 'Banany', 'Truskawki'],\n",
    "    'Cena (PLN)': [3.50, 5.20, 12.00],\n",
    "    'Ilość (kg)': [100, 150, 80]\n",
    "}\n",
    "\n",
    "df = pd.DataFrame(dane)\n",
    "\n",
    "# Wyświetlenie ramki danych - w Jupyterze jest to ładnie formatowane\n",
    "df"
   ]
  },
  {
   "cell_type": "markdown",
   "metadata": {},
   "source": [
    "### Krok 4: Proste użycie Matplotlib i Seaborn\n",
    "\n",
    "Generujemy i wyświetlamy prosty wykres funkcji kosinus. `%matplotlib inline` to \"magiczna komenda\", która sprawia, że wykresy wyświetlają się bezpośrednio w notatniku."
   ]
  },
  {
   "cell_type": "code",
   "execution_count": 4,
   "metadata": {},
   "outputs": [
    {
     "data": {
      "image/png": "[encoded data removed]",
      "text/plain": [
       "<Figure size 1000x600 with 1 Axes>"
      ]
     },
     "metadata": {},
     "output_type": "display_data"
    }
   ],
   "source": [
    "%matplotlib inline\n",
    "\n",
    "# Ustawiamy styl wykresów na bardziej estetyczny\n",
    "sns.set_style(\"darkgrid\")\n",
    "\n",
    "x = np.linspace(-np.pi, np.pi, 200)\n",
    "y = np.cos(x)\n",
    "\n",
    "plt.figure(figsize=(10, 6))\n",
    "plt.plot(x, y, label='cos(x)', color='red', linestyle='--')\n",
    "plt.title('Wykres funkcji kosinus')\n",
    "plt.xlabel('x')\n",
    "plt.ylabel('cos(x)')\n",
    "plt.legend()\n",
    "plt.show()"
   ]
  },
  {
   "cell_type": "markdown",
   "metadata": {},
   "source": [
    "### Krok 5: Proste użycie Scikit-learn\n",
    "\n",
    "Ładujemy wbudowany zbiór danych (w tym przypadku o cenach domów w Bostonie), aby upewnić się, że moduły danych `scikit-learn` działają."
   ]
  },
  {
   "cell_type": "code",
   "execution_count": 5,
   "metadata": {},
   "outputs": [
    {
     "name": "stdout",
     "output_type": "stream",
     "text": [
      ".. _iris_dataset:\n",
      "\n",
      "Iris plants dataset\n",
      "--------------------\n",
      "\n",
      "**Data Set Characteristics:**\n",
      "\n",
      ":Number of Instances: 150 (50 in each of three classes)\n",
      ":Number of Attributes: 4 numeric, predictive attributes and the class\n",
      ":Attribute Information:\n",
      "    - sepal length in cm\n",
      "    - sepal width in cm\n",
      "    - petal length in cm\n",
      "    - petal width in cm\n",
      "    - class:\n",
      "            - Iris-Setosa\n",
      "            - Iris-Versicolour\n",
      "            - Iris-Virginica\n",
      "\n",
      ":Summary Statistics:\n",
      "\n",
      "============== ==== ==== ======= =====...\n"
     ]
    }
   ],
   "source": [
    "from sklearn.datasets import load_iris\n",
    "\n",
    "iris = load_iris()\n",
    "\n",
    "# Wyświetlamy opis zbioru danych\n",
    "print(iris.DESCR[:500] + \"...\") # Drukujemy tylko pierwsze 500 znaków opisu"
   ]
  },
  {
   "cell_type": "code",
   "execution_count": null,
   "metadata": {},
   "outputs": [],
   "source": []
  }
 ],
 "metadata": {
  "kernelspec": {
   "display_name": ".venv (3.13.2)",
   "language": "python",
   "name": "python3"
  },
  "language_info": {
   "codemirror_mode": {
    "name": "ipython",
    "version": 3
   },
   "file_extension": ".py",
   "mimetype": "text/x-python",
   "name": "python",
   "nbconvert_exporter": "python",
   "pygments_lexer": "ipython3",
   "version": "3.13.2"
  }
 },
 "nbformat": 4,
 "nbformat_minor": 4
}
